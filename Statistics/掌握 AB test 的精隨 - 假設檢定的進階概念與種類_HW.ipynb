{
 "cells": [
  {
   "cell_type": "markdown",
   "metadata": {},
   "source": [
    "## 作業:\n",
    "在課堂中，檢定 𝐻_0:𝜇≤0， 𝐻_1:𝜇>0 ，假設在 𝐻_0 為真下，分配為 N(0,1)， 𝐻_1 為真下，分配為 N(2,1)。      \n",
    "假設 𝑋 ̅>1，拒絕 𝐻_0。         \n",
    "如果拒絕域改變時，𝛼 和 𝛽 會怎樣變化，       \n",
    "![](sample mean 1.png)\n",
    "可以拿起一張紙，試著畫畫看，就能找到答案。"
   ]
  },
  {
   "cell_type": "markdown",
   "metadata": {},
   "source": [
    "### Q1: 假設 𝑋 ̅>2，拒絕 𝐻_0，𝛼 會變大/變小? 𝛽 會變大/變小? \n"
   ]
  },
  {
   "cell_type": "markdown",
   "metadata": {},
   "source": [
    "'''\n",
    "你的答案\n",
    "'''\n",
    "𝛽 會變大\n",
    "𝛼 會變小"
   ]
  },
  {
   "cell_type": "markdown",
   "metadata": {},
   "source": [
    "### Q2: 假設 𝑋 ̅>0.2，拒絕 𝐻_0，𝛼 會變大/變小? 𝛽 會變大/變小? \n"
   ]
  },
  {
   "cell_type": "markdown",
   "metadata": {},
   "source": [
    "'''\n",
    "你的答案\n",
    "'''\n",
    "𝛽 會變小 𝛼 會變大"
   ]
  },
  {
   "cell_type": "markdown",
   "metadata": {},
   "source": [
    "### Q3: 𝛼 和 𝛽  有關聯性?"
   ]
  },
  {
   "cell_type": "markdown",
   "metadata": {},
   "source": [
    "'''\n",
    "你的答案\n",
    "'''</br>\n",
    "𝛼 和 𝛽 是 trade-offs 的</br>\n",
    "𝛽 變大 𝛼 就會變小</br>\n",
    "𝛽 變小 𝛼 就會變大</br>"
   ]
  }
 ],
 "metadata": {
  "colab": {
   "name": "Day33.YOLO 細節理解 - 網路輸出的後處理_HW.ipynb",
   "provenance": []
  },
  "kernelspec": {
   "display_name": "Python 3 (ipykernel)",
   "language": "python",
   "name": "python3"
  },
  "language_info": {
   "codemirror_mode": {
    "name": "ipython",
    "version": 3
   },
   "file_extension": ".py",
   "mimetype": "text/x-python",
   "name": "python",
   "nbconvert_exporter": "python",
   "pygments_lexer": "ipython3",
   "version": "3.9.7"
  }
 },
 "nbformat": 4,
 "nbformat_minor": 4
}
