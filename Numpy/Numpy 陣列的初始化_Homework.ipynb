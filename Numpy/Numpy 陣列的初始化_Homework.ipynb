{
 "cells": [
  {
   "cell_type": "markdown",
   "metadata": {
    "colab_type": "text",
    "id": "P6xk2_jLsvFF"
   },
   "source": [
    "# [作業目標]\n",
    "\n",
    "1. [簡答題] 請比較 np.zeros 和 np.empty 產生出來的陣列有何差異？為什麼要設計兩種方法？\n",
    "\n",
    "```\n",
    "print(np.zeros((2, 3)))\n",
    "print(np.empty((2, 3)))\n",
    "```\n",
    "\n",
    "2. 在不用「整數亂數方法」的限制下，如何將包含小數的轉換整數？請將給定的 a 陣列當中的元素變成去掉小數變成整數。\n",
    "3. 承上題，怎樣可以限制整數的範圍介於 m - n 之間？請將給定的 a 陣列當中的元素的範圍調整成 m - n 之間。"
   ]
  },
  {
   "cell_type": "markdown",
   "metadata": {
    "colab_type": "text",
    "id": "uXGll28asvFS"
   },
   "source": [
    "# 作業 "
   ]
  },
  {
   "cell_type": "markdown",
   "metadata": {},
   "source": [
    "### 1. [簡答題] 請比較 np.zeros 和 np.empty 產生出來的陣列有何差異？為什麼要設計兩種方法？\n",
    "\n",
    "```\n",
    "print(np.zeros((2, 3)))\n",
    "print(np.empty((2, 3)))\n",
    "```\n"
   ]
  },
  {
   "cell_type": "code",
   "execution_count": 3,
   "metadata": {
    "colab": {},
    "colab_type": "code",
    "id": "5QrYoyNWsvFS"
   },
   "outputs": [
    {
     "name": "stdout",
     "output_type": "stream",
     "text": [
      "[[0. 0. 0.]\n",
      " [0. 0. 0.]]\n",
      "[[0. 0. 0.]\n",
      " [0. 0. 0.]]\n"
     ]
    }
   ],
   "source": [
    "import numpy as np\n",
    "\n",
    "#產出真正為0的舉證，決定內容為0時\n",
    "print(np.zeros((2,3)))\n",
    "\n",
    "#產出接近0的舉證，尚未決定內容想先初始化時使用\n",
    "print(np.empty((2,3)))"
   ]
  },
  {
   "cell_type": "markdown",
   "metadata": {},
   "source": [
    "### 2. 在不用「整數亂數方法」的限制下，如何將包含小數的轉換整數？請將給定的 a 陣列當中的元素變成去掉小數變成整數。\n"
   ]
  },
  {
   "cell_type": "code",
   "execution_count": 5,
   "metadata": {},
   "outputs": [],
   "source": [
    "# 記得先 Import 正確的套件\n",
    "\n",
    "import numpy as np\n"
   ]
  },
  {
   "cell_type": "code",
   "execution_count": 7,
   "metadata": {
    "colab": {},
    "colab_type": "code",
    "id": "e1gVI0tvsvFY"
   },
   "outputs": [
    {
     "name": "stdout",
     "output_type": "stream",
     "text": [
      "[[0.23759773 0.45082007 0.99589198]\n",
      " [0.43038012 0.74787264 0.0198187 ]]\n",
      "[[0. 0. 1.]\n",
      " [0. 1. 0.]]\n",
      "[[0. 0. 1.]\n",
      " [0. 1. 0.]]\n"
     ]
    }
   ],
   "source": [
    "# 參考解答\n",
    "\n",
    "a = np.random.rand(2, 3)\n",
    "print(a)\n",
    "print(a.round())\n",
    "print(np.around(a))"
   ]
  },
  {
   "cell_type": "markdown",
   "metadata": {},
   "source": [
    "### 3. 承上題，怎樣可以限制整數的範圍介於 m - n 之間？請將給定的 a 陣列當中的元素的範圍調整成 m - n 之間。\n"
   ]
  },
  {
   "cell_type": "code",
   "execution_count": 11,
   "metadata": {},
   "outputs": [
    {
     "name": "stdout",
     "output_type": "stream",
     "text": [
      "[[38. 37. 38.]\n",
      " [24. 28. 22.]]\n"
     ]
    }
   ],
   "source": [
    "m = 20\n",
    "n = 40\n",
    "\n",
    "a = np.random.rand(2,3) * (n-m)\n",
    "b = a\n",
    "\n",
    "print((a-b%1 ) + m)"
   ]
  }
 ],
 "metadata": {
  "colab": {
   "name": "Day_023_HW.ipynb",
   "provenance": []
  },
  "kernelspec": {
   "display_name": "Python 3",
   "language": "python",
   "name": "python3"
  },
  "language_info": {
   "codemirror_mode": {
    "name": "ipython",
    "version": 3
   },
   "file_extension": ".py",
   "mimetype": "text/x-python",
   "name": "python",
   "nbconvert_exporter": "python",
   "pygments_lexer": "ipython3",
   "version": "3.8.5"
  }
 },
 "nbformat": 4,
 "nbformat_minor": 1
}
